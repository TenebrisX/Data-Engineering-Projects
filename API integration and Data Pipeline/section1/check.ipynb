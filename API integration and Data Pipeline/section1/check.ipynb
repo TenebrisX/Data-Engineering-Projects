{
 "cells": [
  {
   "cell_type": "code",
   "execution_count": 2,
   "id": "f6230000",
   "metadata": {},
   "outputs": [],
   "source": [
    "import pandas as pd"
   ]
  },
  {
   "cell_type": "code",
   "execution_count": 3,
   "id": "1a2a719c",
   "metadata": {},
   "outputs": [
    {
     "name": "stdout",
     "output_type": "stream",
     "text": [
      "  ticker    open    high       low   close      volume      vwap   source  \\\n",
      "0   AAPL  212.10  215.78  211.6300  212.48  51377434.0  213.3495  polygon   \n",
      "1   AAPL  213.14  214.95  212.2301  214.40  46404072.0  213.6492  polygon   \n",
      "2   AAPL  215.00  215.15  212.4100  214.15  46989301.0  213.7982  polygon   \n",
      "3   AAPL  213.90  215.69  213.5300  213.76  46022620.0  214.3924  polygon   \n",
      "4   AAPL  214.70  215.24  213.4000  213.88  40268781.0  214.1284  polygon   \n",
      "\n",
      "    date_id  \n",
      "0  20250721  \n",
      "1  20250722  \n",
      "2  20250723  \n",
      "3  20250724  \n",
      "4  20250725  \n",
      "<class 'pandas.core.frame.DataFrame'>\n",
      "RangeIndex: 20 entries, 0 to 19\n",
      "Data columns (total 9 columns):\n",
      " #   Column   Non-Null Count  Dtype  \n",
      "---  ------   --------------  -----  \n",
      " 0   ticker   20 non-null     object \n",
      " 1   open     20 non-null     float64\n",
      " 2   high     20 non-null     float64\n",
      " 3   low      20 non-null     float64\n",
      " 4   close    20 non-null     float64\n",
      " 5   volume   20 non-null     float64\n",
      " 6   vwap     20 non-null     float64\n",
      " 7   source   20 non-null     object \n",
      " 8   date_id  20 non-null     int64  \n",
      "dtypes: float64(6), int64(1), object(2)\n",
      "memory usage: 1.5+ KB\n",
      "None\n"
     ]
    }
   ],
   "source": [
    "stocks = pd.read_parquet(\"data/out/stg_stock_prices_AAPL_2025-07-20_2025-08-18.parquet\")\n",
    "print(stocks.head())\n",
    "print(stocks.info())\n"
   ]
  },
  {
   "cell_type": "code",
   "execution_count": 4,
   "id": "cd022c75",
   "metadata": {},
   "outputs": [
    {
     "name": "stdout",
     "output_type": "stream",
     "text": [
      "    date_id base_currency quote_currency    rate\n",
      "0  20250718           EUR            AUD  1.7852\n",
      "1  20250718           EUR            BGN  1.9558\n",
      "2  20250718           EUR            BRL  6.4699\n",
      "3  20250718           EUR            CAD  1.5984\n",
      "4  20250718           EUR            CHF  0.9324\n",
      "<class 'pandas.core.frame.DataFrame'>\n",
      "RangeIndex: 630 entries, 0 to 629\n",
      "Data columns (total 4 columns):\n",
      " #   Column          Non-Null Count  Dtype  \n",
      "---  ------          --------------  -----  \n",
      " 0   date_id         630 non-null    int64  \n",
      " 1   base_currency   630 non-null    object \n",
      " 2   quote_currency  630 non-null    object \n",
      " 3   rate            630 non-null    float64\n",
      "dtypes: float64(1), int64(1), object(2)\n",
      "memory usage: 19.8+ KB\n",
      "None\n"
     ]
    }
   ],
   "source": [
    "fx = pd.read_parquet(\"data/out/stg_fx_rates_2025-07-20_2025-08-18_EUR.parquet\")\n",
    "print(fx.head())\n",
    "print(fx.info())"
   ]
  }
 ],
 "metadata": {
  "kernelspec": {
   "display_name": ".venv",
   "language": "python",
   "name": "python3"
  },
  "language_info": {
   "codemirror_mode": {
    "name": "ipython",
    "version": 3
   },
   "file_extension": ".py",
   "mimetype": "text/x-python",
   "name": "python",
   "nbconvert_exporter": "python",
   "pygments_lexer": "ipython3",
   "version": "3.11.9"
  }
 },
 "nbformat": 4,
 "nbformat_minor": 5
}
